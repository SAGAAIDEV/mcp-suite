{
 "cells": [
  {
   "cell_type": "code",
   "execution_count": 1,
   "metadata": {},
   "outputs": [
    {
     "data": {
      "text/plain": [
       "\"Hi guys, I'm Andrew. I'm building saga, the socially aligned autonomous generative agent. And I'm going to show you some of the MCP tools that I find are quite effective for development that I'm going to be sharing with the future. So it is using Cursor and Claude, and so I'm going to resume the conversation. Pretty much the only thing that I have to do here is I'm using MCP tools to call PI test and run coverage. But what I do is I make them recursive. So this is a video on recursive MCP tools. And what makes this effective is. So I'm going to go into Pytest here and what you can see is I take, I run the command and oh, I gotta run that. I wish I would. I gotta set that to auto run. So it produces coverage report for the PI test and coverage. And then what I do is actually I process them. And so what I do is I basically get the JSON data, get critical information that I need, and then it's order, and then I order it. And then so the way I set up the MCP tool is, is it basically reads the file one by one. And so Cursor gets stuck on this. Unfortunately, this is a bug I'm looking forward to getting fixed. But what it does is it only focuses on the first test. So it's going to run the test and then it's going to only pull the context of the first broken test. And it does, you know, failed collection. So it'll fix, fix any collection errors, which is really handy. Then it moves on to failed tests and then it moves on to coverage. So and it goes through one, each one, one by one until it's done. So you can see it, it's just like on a roll. Now this is, I don't advise this. This is like a demo just to see it kind of chew through this stuff. And so it looks like it's all done now. And now we can like review, review the changes. Now what it. Oh, okay. So it actually hit the coverage tool. So that's the next thing I'll talk about. Right. So after, when it's done. So it chews through all the failed tests and then it returns instruction. So this is what I call tool chaining, which I think is quite an effective way. And so what it does is when it completes, when this tool is complete, it recursively runs over this data. It will call the MC tool run Coverage, which is right here. And so, and then so coverage is working So I have 100% testing and coverage on my project. And so I'm, I'm very excited about this. Right. So you know, there's pre commit config. So you know, you do your testing, you do your coverage. Well, this is an MCP super linter that basically does your tests, does your coverage and it's very effective. So in the next video, what I'm going to do is I'm going to make something, we're going to expand, we're going to evolve this tool, which is something I'm really excited about. And so there's some ideas like we want to hold state. So of course, you know, we fix these tools when an exception hits, if there's a problem. But also there's no problem of assessing and evolving, like assessing the run, evolving it and then reflecting this, use this experience back into the code. And those are kind of the future tools that we're going to be building here. So thanks for watching. You know, if you're working with MCP tools, I'm excited to hear from you. I think these are amazing and I think it's the future because I really like how the agent is separated from the MCP tool. Right. So the agent can edit the MCP tool, which we're going to do in the next video.\""
      ]
     },
     "execution_count": 1,
     "metadata": {},
     "output_type": "execute_result"
    }
   ],
   "source": [
    "import assemblyai as aai\n",
    "from config.env import AssemblyAI\n",
    "\n",
    "# The API key will be loaded from your .env file through the config\n",
    "api_key = AssemblyAI().API_KEY\n",
    "\n",
    "# Initialize the client with your API key\n",
    "aai.settings.api_key = api_key\n",
    "\n",
    "# Example: Transcribe an audio file\n",
    "transcriber = aai.Transcriber()\n",
    "transcript = transcriber.transcribe(\n",
    "    \"/Users/andrew/Documents/Videos/Tutorials/Movies/Recursive_MCP_Tools_For_Testing_And_Coverage.mp3\"\n",
    ")\n",
    "transcript.text"
   ]
  },
  {
   "cell_type": "code",
   "execution_count": null,
   "metadata": {},
   "outputs": [],
   "source": []
  }
 ],
 "metadata": {
  "kernelspec": {
   "display_name": ".venv",
   "language": "python",
   "name": "python3"
  },
  "language_info": {
   "codemirror_mode": {
    "name": "ipython",
    "version": 3
   },
   "file_extension": ".py",
   "mimetype": "text/x-python",
   "name": "python",
   "nbconvert_exporter": "python",
   "pygments_lexer": "ipython3",
   "version": "3.13.2"
  }
 },
 "nbformat": 4,
 "nbformat_minor": 2
}
