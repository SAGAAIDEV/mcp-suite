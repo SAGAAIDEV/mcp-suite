{
 "cells": [
  {
   "cell_type": "code",
   "execution_count": 3,
   "metadata": {},
   "outputs": [],
   "source": [
    "module_path = \"/Users/andrew/saga/mcp-suite/src/mcp_suite/servers/saagalint/servers/saagalint.py\"\n",
    "import importlib\n",
    "# Add the root directory to sys.path so imports like 'src.mcp_suite...' work\n",
    "import sys\n",
    "import os\n",
    "\n",
    "# Get the root directory (where 'src' is located)\n",
    "# root_dir = os.path.abspath(os.path.join(os.path.dirname(module_path), \"../../../..\"))\n",
    "# proj_dir = os.path.abspath(os.path.join(os.path.dirname(module_path), \"../../..\"))\n",
    "# if root_dir not in sys.path:\n",
    "#     sys.path.insert(0, root_dir)\n",
    "# if proj_dir not in sys.path:\n",
    "#     sys.path.insert(0, proj_dir)\n",
    "\n",
    "spec = importlib.util.spec_from_file_location(\n",
    "    \"saagalint_reloaded\",\n",
    "    module_path,\n",
    ")\n",
    "module_obj = importlib.util.module_from_spec(spec)\n",
    "module_thing = spec.loader.exec_module(module_obj)"
   ]
  },
  {
   "cell_type": "code",
   "execution_count": 4,
   "metadata": {},
   "outputs": [
    {
     "data": {
      "text/plain": [
       "{'run_pytest': Tool(fn=<function run_pytest at 0x10761e520>, name='run_pytest', description='Run pytest tests using subprocess in the git parent directory.\\n\\nThis function finds the git root directory and runs pytest from there.\\n    file_path: str\\n    example src/mcp_suite/base/redis_db/tests/test_redis_manager.py\\n    or if you are told to run on all the files use . for root to get all tests\\n', parameters={'properties': {'file_path': {'title': 'File Path', 'type': 'string'}}, 'required': ['file_path'], 'title': 'run_pytestArguments', 'type': 'object'}, fn_metadata=FuncMetadata(arg_model=<class 'mcp.server.fastmcp.utilities.func_metadata.run_pytestArguments'>), is_async=True, context_kwarg=None),\n",
       " 'run_coverage': Tool(fn=<function run_coverage at 0x10761f100>, name='run_coverage', description='\\nfile_path: THe file path you would like from the coverage report, make it relative\\n', parameters={'properties': {'file_path': {'title': 'file_path', 'type': 'string'}}, 'required': ['file_path'], 'title': 'run_coverageArguments', 'type': 'object'}, fn_metadata=FuncMetadata(arg_model=<class 'mcp.server.fastmcp.utilities.func_metadata.run_coverageArguments'>), is_async=True, context_kwarg=None),\n",
       " 'run_autoflake': Tool(fn=<function run_autoflake at 0x10767d9e0>, name='run_autoflake', description='Run autoflake analysis on specified files or directories.\\n\\nArgs:\\n    file_path: Path to the file or directory to analyze (relative to git root)\\n              Defaults to current directory if not specified\\n    fix: Boolean flag to automatically apply fixes (default: False)\\n\\nReturns:\\n    Status report with issue details and instructions for fixing\\n', parameters={'properties': {'file_path': {'default': '.', 'title': 'File Path', 'type': 'string'}, 'fix': {'default': True, 'title': 'Fix', 'type': 'boolean'}}, 'title': 'run_autoflakeArguments', 'type': 'object'}, fn_metadata=FuncMetadata(arg_model=<class 'mcp.server.fastmcp.utilities.func_metadata.run_autoflakeArguments'>), is_async=True, context_kwarg=None),\n",
       " 'multipy': Tool(fn=<function multipy at 0x10767d580>, name='multipy', description='', parameters={'properties': {'x': {'title': 'x', 'type': 'string'}, 'y': {'title': 'y', 'type': 'string'}}, 'required': ['x', 'y'], 'title': 'multipyArguments', 'type': 'object'}, fn_metadata=FuncMetadata(arg_model=<class 'mcp.server.fastmcp.utilities.func_metadata.multipyArguments'>), is_async=True, context_kwarg=None),\n",
       " 'hot_reload': Tool(fn=<function hot_reload at 0x10767e840>, name='hot_reload', description=\"Reload the server to refresh tools without restarting the process.\\n\\nThis function reloads Python modules and refreshes the server's tools,\\nresources, and prompts without completely restarting the server process.\\nUse this when you've made changes to tool implementations and want to\\nsee them take effect immediately.\\n\\nReturns:\\n    A message indicating the server has been reloaded\\n\", parameters={'properties': {}, 'title': 'hot_reloadArguments', 'type': 'object'}, fn_metadata=FuncMetadata(arg_model=<class 'mcp.server.fastmcp.utilities.func_metadata.hot_reloadArguments'>), is_async=True, context_kwarg=None)}"
      ]
     },
     "execution_count": 4,
     "metadata": {},
     "output_type": "execute_result"
    }
   ],
   "source": [
    "module_obj.mcp._tool_manager._tools"
   ]
  },
  {
   "cell_type": "code",
   "execution_count": 5,
   "metadata": {},
   "outputs": [],
   "source": []
  },
  {
   "cell_type": "code",
   "execution_count": null,
   "metadata": {},
   "outputs": [],
   "source": []
  },
  {
   "cell_type": "code",
   "execution_count": null,
   "metadata": {},
   "outputs": [],
   "source": []
  }
 ],
 "metadata": {
  "kernelspec": {
   "display_name": ".venv",
   "language": "python",
   "name": "python3"
  },
  "language_info": {
   "codemirror_mode": {
    "name": "ipython",
    "version": 3
   },
   "file_extension": ".py",
   "mimetype": "text/x-python",
   "name": "python",
   "nbconvert_exporter": "python",
   "pygments_lexer": "ipython3",
   "version": "3.13.2"
  }
 },
 "nbformat": 4,
 "nbformat_minor": 2
}
