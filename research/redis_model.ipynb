{
 "cells": [
  {
   "cell_type": "code",
   "execution_count": 1,
   "metadata": {},
   "outputs": [],
   "source": [
    "from mcp_suite.base.base_service import Credentials, Account, BaseService, CredentialType\n",
    "class MyService(BaseService):\n",
    "    service_type: str = \"Social\""
   ]
  },
  {
   "cell_type": "code",
   "execution_count": 2,
   "metadata": {},
   "outputs": [],
   "source": []
  },
  {
   "cell_type": "code",
   "execution_count": 2,
   "metadata": {},
   "outputs": [],
   "source": [
    "Creds = Credentials(credential_type=CredentialType.EMAIL_PASSWORD, email=\"myemail@gmail.com\", password=\"mypassword\")"
   ]
  },
  {
   "cell_type": "code",
   "execution_count": 3,
   "metadata": {},
   "outputs": [],
   "source": [
    "account = Account(name=\"Personal\", description=\"Personal account for posting x,y,z\", credentials=Creds)"
   ]
  },
  {
   "cell_type": "code",
   "execution_count": 4,
   "metadata": {},
   "outputs": [
    {
     "name": "stderr",
     "output_type": "stream",
     "text": [
      "\u001b[32m2025-03-09 13:56:42.434\u001b[0m | \u001b[34m\u001b[1mDEBUG   \u001b[0m | \u001b[36mmcp_suite.base.models.singleton\u001b[0m:\u001b[36m__new__\u001b[0m:\u001b[36m59\u001b[0m - \u001b[34m\u001b[1mCreated new singleton instance of MyService\u001b[0m\n",
      "\u001b[32m2025-03-09 13:56:42.434\u001b[0m | \u001b[34m\u001b[1mDEBUG   \u001b[0m | \u001b[36mmcp_suite.base.models.singleton\u001b[0m:\u001b[36m__new__\u001b[0m:\u001b[36m63\u001b[0m - \u001b[34m\u001b[1mReturning existing singleton instance of MyService\u001b[0m\n",
      "\u001b[32m2025-03-09 13:56:42.435\u001b[0m | \u001b[34m\u001b[1mDEBUG   \u001b[0m | \u001b[36mmcp_suite.base.models.singleton\u001b[0m:\u001b[36m__init__\u001b[0m:\u001b[36m85\u001b[0m - \u001b[34m\u001b[1mUpdated singleton instance of MyService with new data\u001b[0m\n",
      "\u001b[32m2025-03-09 13:56:42.435\u001b[0m | \u001b[34m\u001b[1mDEBUG   \u001b[0m | \u001b[36mmcp_suite.base.models.redis_singleton\u001b[0m:\u001b[36msave\u001b[0m:\u001b[36m94\u001b[0m - \u001b[34m\u001b[1mSaving MyService to Redis\u001b[0m\n",
      "\u001b[32m2025-03-09 13:56:42.439\u001b[0m | \u001b[34m\u001b[1mDEBUG   \u001b[0m | \u001b[36mmcp_suite.base.models.redis.repository\u001b[0m:\u001b[36mget_redis\u001b[0m:\u001b[36m98\u001b[0m - \u001b[34m\u001b[1mConnected to Redis: redis://localhost:6379:0\u001b[0m\n",
      "\u001b[32m2025-03-09 13:56:42.440\u001b[0m | \u001b[1mINFO    \u001b[0m | \u001b[36mmcp_suite.base.models.redis.repository\u001b[0m:\u001b[36msave\u001b[0m:\u001b[36m147\u001b[0m - \u001b[1mSaved MyService to Redis\u001b[0m\n",
      "\u001b[32m2025-03-09 13:56:42.440\u001b[0m | \u001b[1mINFO    \u001b[0m | \u001b[36mmcp_suite.base.models.redis_singleton\u001b[0m:\u001b[36msave\u001b[0m:\u001b[36m100\u001b[0m - \u001b[1mSaved MyService to Redis\u001b[0m\n"
     ]
    },
    {
     "data": {
      "text/plain": [
       "True"
      ]
     },
     "execution_count": 4,
     "metadata": {},
     "output_type": "execute_result"
    }
   ],
   "source": [
    "M = MyService(service_type=\"Social\", accounts=[account])\n",
    "M.save()"
   ]
  },
  {
   "cell_type": "code",
   "execution_count": 6,
   "metadata": {},
   "outputs": [
    {
     "data": {
      "text/plain": [
       "MyService(created_at=datetime.datetime(2025, 3, 9, 20, 50, 33, 681407, tzinfo=TzInfo(UTC)), updated_at=datetime.datetime(2025, 3, 9, 20, 50, 33, 683643, tzinfo=datetime.timezone.utc), service_type='Social', accounts=[Account(credentials=Credentials(credential_type=<CredentialType.EMAIL_PASSWORD: 'email_password'>, is_valid=False, last_validated=None, email='myemail@gmail.com', password='mypassword', api_key=None, api_secret=None, oauth_token=None, oauth_refresh_token=None, oauth_expires_at=None), is_active=True, last_used=None, name='Personal', description='Personal account for posting x,y,z')], is_enabled=True, last_active=datetime.datetime(2025, 3, 9, 13, 50, 33, 681414), active_account_index=0)"
      ]
     },
     "execution_count": 6,
     "metadata": {},
     "output_type": "execute_result"
    }
   ],
   "source": [
    "M"
   ]
  },
  {
   "cell_type": "code",
   "execution_count": 7,
   "metadata": {},
   "outputs": [
    {
     "name": "stderr",
     "output_type": "stream",
     "text": [
      "\u001b[32m2025-03-09 13:50:41.493\u001b[0m | \u001b[34m\u001b[1mDEBUG   \u001b[0m | \u001b[36mmcp_suite.base.models.singleton\u001b[0m:\u001b[36m__new__\u001b[0m:\u001b[36m63\u001b[0m - \u001b[34m\u001b[1mReturning existing singleton instance of MyService\u001b[0m\n"
     ]
    },
    {
     "data": {
      "text/plain": [
       "MyService(created_at=datetime.datetime(2025, 3, 9, 20, 50, 33, 681407, tzinfo=TzInfo(UTC)), updated_at=datetime.datetime(2025, 3, 9, 20, 50, 33, 683643, tzinfo=datetime.timezone.utc), service_type='Social', accounts=[Account(credentials=Credentials(credential_type=<CredentialType.EMAIL_PASSWORD: 'email_password'>, is_valid=False, last_validated=None, email='myemail@gmail.com', password='mypassword', api_key=None, api_secret=None, oauth_token=None, oauth_refresh_token=None, oauth_expires_at=None), is_active=True, last_used=None, name='Personal', description='Personal account for posting x,y,z')], is_enabled=True, last_active=datetime.datetime(2025, 3, 9, 13, 50, 33, 681414), active_account_index=0)"
      ]
     },
     "execution_count": 7,
     "metadata": {},
     "output_type": "execute_result"
    }
   ],
   "source": [
    "N = MyService()\n",
    "N"
   ]
  },
  {
   "cell_type": "code",
   "execution_count": 3,
   "metadata": {},
   "outputs": [
    {
     "name": "stderr",
     "output_type": "stream",
     "text": [
      "\u001b[32m2025-03-09 14:33:35.289\u001b[0m | \u001b[34m\u001b[1mDEBUG   \u001b[0m | \u001b[36mmcp_suite.base.models.redis.repository\u001b[0m:\u001b[36mget_redis\u001b[0m:\u001b[36m96\u001b[0m - \u001b[34m\u001b[1mConnected to Redis: redis://localhost:6379\u001b[0m\n",
      "\u001b[32m2025-03-09 14:33:35.289\u001b[0m | \u001b[34m\u001b[1mDEBUG   \u001b[0m | \u001b[36mmcp_suite.base.models.redis_singleton\u001b[0m:\u001b[36mload\u001b[0m:\u001b[36m126\u001b[0m - \u001b[34m\u001b[1mLoading MyService from Redis\u001b[0m\n",
      "\u001b[32m2025-03-09 14:33:35.290\u001b[0m | \u001b[34m\u001b[1mDEBUG   \u001b[0m | \u001b[36mmcp_suite.base.models.singleton\u001b[0m:\u001b[36m__new__\u001b[0m:\u001b[36m59\u001b[0m - \u001b[34m\u001b[1mCreated new singleton instance of MyService\u001b[0m\n",
      "\u001b[32m2025-03-09 14:33:35.290\u001b[0m | \u001b[34m\u001b[1mDEBUG   \u001b[0m | \u001b[36mmcp_suite.base.models.singleton\u001b[0m:\u001b[36m__new__\u001b[0m:\u001b[36m63\u001b[0m - \u001b[34m\u001b[1mReturning existing singleton instance of MyService\u001b[0m\n",
      "\u001b[32m2025-03-09 14:33:35.291\u001b[0m | \u001b[34m\u001b[1mDEBUG   \u001b[0m | \u001b[36mmcp_suite.base.models.singleton\u001b[0m:\u001b[36m__init__\u001b[0m:\u001b[36m85\u001b[0m - \u001b[34m\u001b[1mUpdated singleton instance of MyService with new data\u001b[0m\n",
      "\u001b[32m2025-03-09 14:33:35.291\u001b[0m | \u001b[1mINFO    \u001b[0m | \u001b[36mmcp_suite.base.models.redis_singleton\u001b[0m:\u001b[36mload\u001b[0m:\u001b[36m138\u001b[0m - \u001b[1mLoaded MyService data from Redis\u001b[0m\n"
     ]
    },
    {
     "data": {
      "text/plain": [
       "MyService(created_at=datetime.datetime(2025, 3, 9, 20, 56, 42, 434040, tzinfo=TzInfo(UTC)), updated_at=datetime.datetime(2025, 3, 9, 20, 56, 42, 436145, tzinfo=TzInfo(UTC)), service_type='Social', accounts=[Account(credentials=Credentials(credential_type=<CredentialType.EMAIL_PASSWORD: 'email_password'>, is_valid=False, last_validated=None, email='myemail@gmail.com', password='mypassword', api_key=None, api_secret=None, oauth_token=None, oauth_refresh_token=None, oauth_expires_at=None), is_active=True, last_used=None, name='Personal', description='Personal account for posting x,y,z')], is_enabled=True, last_active=datetime.datetime(2025, 3, 9, 13, 56, 42, 434045), active_account_index=0)"
      ]
     },
     "execution_count": 3,
     "metadata": {},
     "output_type": "execute_result"
    }
   ],
   "source": [
    "N = MyService.load()\n",
    "N"
   ]
  },
  {
   "cell_type": "code",
   "execution_count": 5,
   "metadata": {},
   "outputs": [
    {
     "data": {
      "text/plain": [
       "{__main__.MyService: MyService(created_at=datetime.datetime(2025, 3, 9, 20, 51, 2, 781991, tzinfo=datetime.timezone.utc), updated_at=datetime.datetime(2025, 3, 9, 20, 51, 2, 781994, tzinfo=datetime.timezone.utc), service_type='Social', accounts=[], is_enabled=True, last_active=datetime.datetime(2025, 3, 9, 13, 51, 2, 781997), active_account_index=0)}"
      ]
     },
     "execution_count": 5,
     "metadata": {},
     "output_type": "execute_result"
    }
   ],
   "source": [
    "MyService._instances"
   ]
  },
  {
   "cell_type": "code",
   "execution_count": 8,
   "metadata": {},
   "outputs": [
    {
     "data": {
      "text/plain": [
       "'{\"created_at\":\"2025-03-09T20:56:42.434040+00:00\",\"updated_at\":\"2025-03-09T20:56:42.436145+00:00\",\"service_type\":\"Social\",\"accounts\":[{\"credentials\":{\"credential_type\":\"email_password\",\"is_valid\":false,\"last_validated\":null,\"email\":\"myemail@gmail.com\",\"password\":\"mypassword\",\"api_key\":null,\"api_secret\":null,\"oauth_token\":null,\"oauth_refresh_token\":null,\"oauth_expires_at\":null},\"is_active\":true,\"last_used\":null,\"name\":\"Personal\",\"description\":\"Personal account for posting x,y,z\"}],\"is_enabled\":true,\"last_active\":\"2025-03-09T13:56:42.434045\",\"active_account_index\":0}'"
      ]
     },
     "execution_count": 8,
     "metadata": {},
     "output_type": "execute_result"
    }
   ],
   "source": [
    "MyService.get_repository().get_redis().get(\"0:MyService\")"
   ]
  },
  {
   "cell_type": "code",
   "execution_count": 6,
   "metadata": {},
   "outputs": [
    {
     "name": "stderr",
     "output_type": "stream",
     "text": [
      "\u001b[32m2025-03-09 14:09:53.781\u001b[0m | \u001b[34m\u001b[1mDEBUG   \u001b[0m | \u001b[36mmcp_suite.base.models.singleton\u001b[0m:\u001b[36m__new__\u001b[0m:\u001b[36m63\u001b[0m - \u001b[34m\u001b[1mReturning existing singleton instance of MyService\u001b[0m\n",
      "\u001b[32m2025-03-09 14:09:53.781\u001b[0m | \u001b[34m\u001b[1mDEBUG   \u001b[0m | \u001b[36mmcp_suite.base.models.singleton\u001b[0m:\u001b[36m__new__\u001b[0m:\u001b[36m63\u001b[0m - \u001b[34m\u001b[1mReturning existing singleton instance of MyService\u001b[0m\n",
      "\u001b[32m2025-03-09 14:09:53.782\u001b[0m | \u001b[34m\u001b[1mDEBUG   \u001b[0m | \u001b[36mmcp_suite.base.models.singleton\u001b[0m:\u001b[36m__init__\u001b[0m:\u001b[36m85\u001b[0m - \u001b[34m\u001b[1mUpdated singleton instance of MyService with new data\u001b[0m\n"
     ]
    },
    {
     "data": {
      "text/plain": [
       "MyService(created_at=datetime.datetime(2025, 3, 9, 20, 56, 42, 434040, tzinfo=TzInfo(UTC)), updated_at=datetime.datetime(2025, 3, 9, 20, 56, 42, 436145, tzinfo=TzInfo(UTC)), service_type='Social', accounts=[Account(credentials=Credentials(credential_type=<CredentialType.EMAIL_PASSWORD: 'email_password'>, is_valid=False, last_validated=None, email='myemail@gmail.com', password='mypassword', api_key=None, api_secret=None, oauth_token=None, oauth_refresh_token=None, oauth_expires_at=None), is_active=True, last_used=None, name='Personal', description='Personal account for posting x,y,z')], is_enabled=True, last_active=datetime.datetime(2025, 3, 9, 13, 56, 42, 434045), active_account_index=0)"
      ]
     },
     "execution_count": 6,
     "metadata": {},
     "output_type": "execute_result"
    }
   ],
   "source": [
    "import json\n",
    "MyService(**json.loads(MyService.get_repository().get_redis().get(\"0:MyService\")))"
   ]
  },
  {
   "cell_type": "code",
   "execution_count": 2,
   "metadata": {},
   "outputs": [
    {
     "name": "stderr",
     "output_type": "stream",
     "text": [
      "\u001b[32m2025-03-09 14:31:36.932\u001b[0m | \u001b[34m\u001b[1mDEBUG   \u001b[0m | \u001b[36mmcp_suite.base.models.redis.repository\u001b[0m:\u001b[36mget_redis\u001b[0m:\u001b[36m96\u001b[0m - \u001b[34m\u001b[1mConnected to Redis: redis://localhost:6379\u001b[0m\n",
      "\u001b[32m2025-03-09 14:31:36.932\u001b[0m | \u001b[34m\u001b[1mDEBUG   \u001b[0m | \u001b[36mmcp_suite.base.models.redis_singleton\u001b[0m:\u001b[36mload\u001b[0m:\u001b[36m126\u001b[0m - \u001b[34m\u001b[1mLoading MyService from Redis\u001b[0m\n",
      "\u001b[32m2025-03-09 14:31:36.933\u001b[0m | \u001b[34m\u001b[1mDEBUG   \u001b[0m | \u001b[36mmcp_suite.base.models.singleton\u001b[0m:\u001b[36m__new__\u001b[0m:\u001b[36m59\u001b[0m - \u001b[34m\u001b[1mCreated new singleton instance of MyService\u001b[0m\n",
      "\u001b[32m2025-03-09 14:31:36.933\u001b[0m | \u001b[34m\u001b[1mDEBUG   \u001b[0m | \u001b[36mmcp_suite.base.models.singleton\u001b[0m:\u001b[36m__new__\u001b[0m:\u001b[36m63\u001b[0m - \u001b[34m\u001b[1mReturning existing singleton instance of MyService\u001b[0m\n",
      "\u001b[32m2025-03-09 14:31:36.933\u001b[0m | \u001b[34m\u001b[1mDEBUG   \u001b[0m | \u001b[36mmcp_suite.base.models.singleton\u001b[0m:\u001b[36m__init__\u001b[0m:\u001b[36m85\u001b[0m - \u001b[34m\u001b[1mUpdated singleton instance of MyService with new data\u001b[0m\n",
      "\u001b[32m2025-03-09 14:31:36.934\u001b[0m | \u001b[1mINFO    \u001b[0m | \u001b[36mmcp_suite.base.models.redis_singleton\u001b[0m:\u001b[36mload\u001b[0m:\u001b[36m138\u001b[0m - \u001b[1mLoaded MyService data from Redis\u001b[0m\n"
     ]
    }
   ],
   "source": [
    "N = MyService.load()"
   ]
  },
  {
   "cell_type": "code",
   "execution_count": null,
   "metadata": {},
   "outputs": [],
   "source": [
    "MyService(**json.loads(MyService.get_repository().get_redis().get(\"0:MyService\")))"
   ]
  },
  {
   "cell_type": "code",
   "execution_count": 4,
   "metadata": {},
   "outputs": [
    {
     "name": "stderr",
     "output_type": "stream",
     "text": [
      "\u001b[32m2025-03-09 14:33:39.992\u001b[0m | \u001b[34m\u001b[1mDEBUG   \u001b[0m | \u001b[36mmcp_suite.base.models.redis_singleton\u001b[0m:\u001b[36msave\u001b[0m:\u001b[36m94\u001b[0m - \u001b[34m\u001b[1mSaving MyService to Redis\u001b[0m\n",
      "\u001b[32m2025-03-09 14:33:39.994\u001b[0m | \u001b[1mINFO    \u001b[0m | \u001b[36mmcp_suite.base.models.redis_singleton\u001b[0m:\u001b[36msave\u001b[0m:\u001b[36m104\u001b[0m - \u001b[1mSaved MyService to Redis\u001b[0m\n",
      "\u001b[32m2025-03-09 14:33:39.994\u001b[0m | \u001b[1mINFO    \u001b[0m | \u001b[36mmcp_suite.base.base_service\u001b[0m:\u001b[36madd_account\u001b[0m:\u001b[36m343\u001b[0m - \u001b[1mSuccessfully added account and saved service\u001b[0m\n"
     ]
    },
    {
     "data": {
      "text/plain": [
       "True"
      ]
     },
     "execution_count": 4,
     "metadata": {},
     "output_type": "execute_result"
    }
   ],
   "source": [
    "account = Account(\n",
    "    name=\"Other\", description=\"Personal account for posting x,y,z\", credentials=Creds\n",
    ")\n",
    "await N.add_account(account)"
   ]
  },
  {
   "cell_type": "code",
   "execution_count": 6,
   "metadata": {},
   "outputs": [
    {
     "data": {
      "text/plain": [
       "MyService(created_at=datetime.datetime(2025, 3, 9, 20, 56, 42, 434040, tzinfo=TzInfo(UTC)), updated_at=datetime.datetime(2025, 3, 9, 20, 56, 42, 436145, tzinfo=TzInfo(UTC)), service_type='Social', accounts=[Account(credentials=Credentials(credential_type=<CredentialType.EMAIL_PASSWORD: 'email_password'>, is_valid=False, last_validated=None, email='myemail@gmail.com', password='mypassword', api_key=None, api_secret=None, oauth_token=None, oauth_refresh_token=None, oauth_expires_at=None), is_active=True, last_used=None, name='Personal', description='Personal account for posting x,y,z'), Account(credentials=Credentials(credential_type=<CredentialType.EMAIL_PASSWORD: 'email_password'>, is_valid=True, last_validated=datetime.datetime(2025, 3, 9, 14, 29, 53, 522076), email='myemail@gmail.com', password='mypassword', api_key=None, api_secret=None, oauth_token=None, oauth_refresh_token=None, oauth_expires_at=None), is_active=True, last_used=datetime.datetime(2025, 3, 9, 14, 29, 53, 522097), name='Other', description='Personal account for posting x,y,z')], is_enabled=True, last_active=datetime.datetime(2025, 3, 9, 13, 56, 42, 434045), active_account_index=0)"
      ]
     },
     "execution_count": 6,
     "metadata": {},
     "output_type": "execute_result"
    }
   ],
   "source": [
    "N"
   ]
  },
  {
   "cell_type": "code",
   "execution_count": 6,
   "metadata": {},
   "outputs": [
    {
     "name": "stderr",
     "output_type": "stream",
     "text": [
      "\u001b[32m2025-03-09 14:34:01.049\u001b[0m | \u001b[34m\u001b[1mDEBUG   \u001b[0m | \u001b[36mmcp_suite.base.models.redis_singleton\u001b[0m:\u001b[36mload\u001b[0m:\u001b[36m126\u001b[0m - \u001b[34m\u001b[1mLoading MyService from Redis\u001b[0m\n",
      "\u001b[32m2025-03-09 14:34:01.050\u001b[0m | \u001b[34m\u001b[1mDEBUG   \u001b[0m | \u001b[36mmcp_suite.base.models.singleton\u001b[0m:\u001b[36m__new__\u001b[0m:\u001b[36m63\u001b[0m - \u001b[34m\u001b[1mReturning existing singleton instance of MyService\u001b[0m\n",
      "\u001b[32m2025-03-09 14:34:01.050\u001b[0m | \u001b[34m\u001b[1mDEBUG   \u001b[0m | \u001b[36mmcp_suite.base.models.singleton\u001b[0m:\u001b[36m__new__\u001b[0m:\u001b[36m63\u001b[0m - \u001b[34m\u001b[1mReturning existing singleton instance of MyService\u001b[0m\n",
      "\u001b[32m2025-03-09 14:34:01.050\u001b[0m | \u001b[34m\u001b[1mDEBUG   \u001b[0m | \u001b[36mmcp_suite.base.models.singleton\u001b[0m:\u001b[36m__init__\u001b[0m:\u001b[36m85\u001b[0m - \u001b[34m\u001b[1mUpdated singleton instance of MyService with new data\u001b[0m\n",
      "\u001b[32m2025-03-09 14:34:01.050\u001b[0m | \u001b[1mINFO    \u001b[0m | \u001b[36mmcp_suite.base.models.redis_singleton\u001b[0m:\u001b[36mload\u001b[0m:\u001b[36m138\u001b[0m - \u001b[1mLoaded MyService data from Redis\u001b[0m\n"
     ]
    },
    {
     "data": {
      "text/plain": [
       "{'created_at': '2025-03-09T20:56:42.434040+00:00',\n",
       " 'updated_at': '2025-03-09T21:33:39.993075+00:00',\n",
       " 'service_type': 'Social',\n",
       " 'accounts': [{'credentials': {'credential_type': <CredentialType.EMAIL_PASSWORD: 'email_password'>,\n",
       "    'is_valid': False,\n",
       "    'last_validated': None,\n",
       "    'email': 'myemail@gmail.com',\n",
       "    'password': 'mypassword',\n",
       "    'api_key': None,\n",
       "    'api_secret': None,\n",
       "    'oauth_token': None,\n",
       "    'oauth_refresh_token': None,\n",
       "    'oauth_expires_at': None},\n",
       "   'is_active': True,\n",
       "   'last_used': None,\n",
       "   'name': 'Personal',\n",
       "   'description': 'Personal account for posting x,y,z'},\n",
       "  {'credentials': {'credential_type': <CredentialType.EMAIL_PASSWORD: 'email_password'>,\n",
       "    'is_valid': True,\n",
       "    'last_validated': '2025-03-09T14:33:39.992455',\n",
       "    'email': 'myemail@gmail.com',\n",
       "    'password': 'mypassword',\n",
       "    'api_key': None,\n",
       "    'api_secret': None,\n",
       "    'oauth_token': None,\n",
       "    'oauth_refresh_token': None,\n",
       "    'oauth_expires_at': None},\n",
       "   'is_active': True,\n",
       "   'last_used': datetime.datetime(2025, 3, 9, 14, 33, 39, 992476),\n",
       "   'name': 'Other',\n",
       "   'description': 'Personal account for posting x,y,z'}],\n",
       " 'is_enabled': True,\n",
       " 'last_active': '2025-03-09T13:56:42.434045',\n",
       " 'active_account_index': 0}"
      ]
     },
     "execution_count": 6,
     "metadata": {},
     "output_type": "execute_result"
    }
   ],
   "source": [
    "Q = MyService.load()\n",
    "Q.model_dump()"
   ]
  },
  {
   "cell_type": "code",
   "execution_count": null,
   "metadata": {},
   "outputs": [],
   "source": []
  }
 ],
 "metadata": {
  "kernelspec": {
   "display_name": ".venv",
   "language": "python",
   "name": "python3"
  },
  "language_info": {
   "codemirror_mode": {
    "name": "ipython",
    "version": 3
   },
   "file_extension": ".py",
   "mimetype": "text/x-python",
   "name": "python",
   "nbconvert_exporter": "python",
   "pygments_lexer": "ipython3",
   "version": "3.13.2"
  }
 },
 "nbformat": 4,
 "nbformat_minor": 2
}
